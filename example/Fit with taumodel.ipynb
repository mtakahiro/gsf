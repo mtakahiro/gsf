{
 "cells": [
  {
   "cell_type": "markdown",
   "metadata": {},
   "source": [
    "## SED fitting using a functional form SFH;\n",
    "\n",
    "This notebook will demosntrate how we get SED results with broadband data points using a function form for SFHs.\n",
    "This example uses the publicly avaialble 3DHST catalog;\n",
    "https://archive.stsci.edu/prepds/3d-hst/"
   ]
  },
  {
   "cell_type": "code",
   "execution_count": null,
   "metadata": {},
   "outputs": [],
   "source": [
    "%matplotlib inline\n",
    "%load_ext autoreload"
   ]
  },
  {
   "cell_type": "code",
   "execution_count": null,
   "metadata": {},
   "outputs": [],
   "source": [
    "import os\n",
    "import numpy as np\n",
    "import matplotlib.pyplot as plt\n",
    "\n",
    "from astropy.io import ascii,fits\n",
    "from astropy.convolution import Gaussian2DKernel\n",
    "from astropy.stats import gaussian_fwhm_to_sigma\n",
    "from astropy.table import QTable\n",
    "import astropy.units as u\n",
    "\n",
    "from astropy import __version__ as asver\n",
    "asver"
   ]
  },
  {
   "cell_type": "code",
   "execution_count": null,
   "metadata": {},
   "outputs": [],
   "source": [
    "# https://github.com/mtakahiro/gsf/tree/version1.4\n",
    "import gsf\n",
    "print(gsf.__version__)\n",
    "\n",
    "from gsf.function import get_input\n",
    "from gsf.gsf import run_gsf_template\n",
    "from gsf.plot_sed import plot_sed_tau, plot_corner_physparam_frame, plot_corner_physparam_summary\n",
    "from gsf.plot_sfh import plot_sfh_tau"
   ]
  },
  {
   "cell_type": "code",
   "execution_count": null,
   "metadata": {},
   "outputs": [],
   "source": [
    "## Get photometric catalog;\n",
    "# 3DHST catalog available at:\n",
    "# https://archive.stsci.edu/prepds/3d-hst/\n",
    "field = 'goodss'\n",
    "\n",
    "# @@ Change this @@\n",
    "# /Volumes/HD-LXU3/udfcen3/data/3DHST\n",
    "DIR_3DHST = './CATALOG/%s_3dhst.v4.1.cats/'%(field)\n",
    "file_phot = DIR_3DHST + 'Catalog/%s_3dhst.v4.1.cat.FITS'%field\n",
    "fd_phot = fits.open(file_phot)[1].data\n",
    "\n",
    "file_tran = DIR_3DHST + 'Eazy/%s_3dhst.v4.1.translate'%field\n",
    "fd_tran = ascii.read(file_tran, format='no_header')\n",
    "\n",
    "\n",
    "file_pz = DIR_3DHST + 'Eazy/%s_3dhst.v4.1.zout.FITS'%field\n",
    "fd_pz = fits.open(file_pz)[1].data\n"
   ]
  },
  {
   "cell_type": "code",
   "execution_count": null,
   "metadata": {},
   "outputs": [],
   "source": [
    "from astropy.table import QTable\n",
    "\n",
    "file_out = './%s_phot.cat'%field\n",
    "\n",
    "names = []\n",
    "for key in fd_tran['col2']:\n",
    "    names.append('%s'%key)\n"
   ]
  },
  {
   "cell_type": "code",
   "execution_count": null,
   "metadata": {},
   "outputs": [],
   "source": [
    "tab = {}\n",
    "tab['id'] = fd_phot['id']\n",
    "tab['z'] = fd_pz['z_a']\n",
    "\n",
    "for kk,key in enumerate(fd_tran['col2']):\n",
    "    try:\n",
    "        tab[key] = fd_phot[fd_tran['col1'][kk]]\n",
    "    except:\n",
    "        print(fd_tran['col1'][kk])\n",
    "        print('failed.')\n",
    "\n",
    "t = QTable(tab)\n",
    "t.write(file_out, overwrite=True, format='ascii')\n"
   ]
  },
  {
   "cell_type": "markdown",
   "metadata": {},
   "source": [
    "### Setup gsf"
   ]
  },
  {
   "cell_type": "code",
   "execution_count": null,
   "metadata": {},
   "outputs": [],
   "source": [
    "# Initial setup for gsf.\n",
    "\n",
    "# Data directory;\n",
    "DIR_DATA = './'\n",
    "\n",
    "\n",
    "# Auto load input dictionary;\n",
    "inputs = get_input()\n",
    "\n",
    "# change Z;\n",
    "# Flag;\n",
    "fplt = 0\n",
    "inputs['DIR_TEMP'] = './templates/'\n",
    "\n",
    "# Output directory;\n",
    "inputs['DIR_OUT'] = './output/'\n",
    "\n",
    "# If templates exit already, then let's save time.\n",
    "# (But if you changed metallicity range or age pixels, fplt needs to be 0.)\n",
    "if os.path.exists('%s/spec_all.asdf'%inputs['DIR_TEMP']):\n",
    "    fplt = 1\n",
    "\n",
    "inputs['ID'] = '43114'\n",
    "\n",
    "# Redshift will be obtained from BB catalog;\n",
    "inputs['ZGAL'] = 1.90\n",
    "\n",
    "# Redshift as a free parameter?\n",
    "inputs['ZMC'] = 0\n",
    "\n",
    "# Metallicity range, in logZsun;\n",
    "inputs['ZMIN'] = -1.6\n",
    "inputs['ZMAX'] = 0.4\n",
    "inputs['DELZ'] = 0.1\n",
    "# You can fix metallicity;\n",
    "#inputs['ZFIX'] = 0.0\n",
    "\n",
    "# Tau model specification;\n",
    "inputs['SFH_FORM'] = 4 # delayed tau. 1 for exponential declining model. \n",
    "inputs['NPEAK'] = 1 # Number of SFH components.\n",
    "inputs['AGEMIN'] = -2\n",
    "inputs['AGEMAX'] = 1.\n",
    "inputs['DELAGE'] = 0.1\n",
    "inputs['TAUMIN'] = -1.8\n",
    "inputs['TAUMAX'] = 1.0\n",
    "inputs['DELTAU'] = 0.1\n",
    "inputs['NIMF'] = 1 # Choice for Initial Mass Function. 0=Salpeter, 1=Chabrier, 2=Kroupa, 3=van Dokkum, 4=Dave, 5=tabulated, specified in imf.dat file located in the data directory.\n",
    "inputs['ADD_NEBULAE'] = 1 # This cannot be done when BPASS is selected.\n",
    "\n",
    "# Templates;\n",
    "# Currently in prep.\n",
    "inputs['BPASS'] = 0\n",
    "\n",
    "# @@ Change this @@\n",
    "# Directory path to eazy filter transmission curve files.\n",
    "inputs['DIR_FILT'] = './GitHub/gsf/example/filter/'\n",
    "\n",
    "# photometric catalog;\n",
    "inputs['CAT_BB'] = DIR_DATA + 'goodss_phot.cat'\n",
    "\n",
    "# Filters;\n",
    "#inputs['FILTER'] = '205,88,122,79,236,123,124,239,125,203,263,204,264,265,18,19,20,21'\n",
    "# If any filters need to be skipped.\n",
    "inputs['SKIPFILT'] = None\n",
    "\n",
    "# MCMC part;\n",
    "inputs['NMC'] = 1000 # NMC for the main SED fit\n",
    "inputs['NMCZ'] = 30 # NMC for the redshift fit\n",
    "inputs['MC_SAMP'] = 'EMCEE' #ZEUS\n",
    "\n",
    "# Visual inspection;\n",
    "# Set to 0 (False), as Notebook cannot show actively iterating plot;\n",
    "inputs['ZVIS'] = 0\n",
    "\n",
    "# Initial fit:\n",
    "inputs['FNELD'] = 'differential_evolution' # nelder, powell\n"
   ]
  },
  {
   "cell_type": "code",
   "execution_count": null,
   "metadata": {},
   "outputs": [],
   "source": [
    "print(fplt, inputs)\n"
   ]
  },
  {
   "cell_type": "code",
   "execution_count": null,
   "metadata": {},
   "outputs": [],
   "source": [
    "# Then, run template generate function;\n",
    "mb = run_gsf_template(inputs, fplt=fplt)\n",
    "fplt = 1\n"
   ]
  },
  {
   "cell_type": "code",
   "execution_count": null,
   "metadata": {},
   "outputs": [],
   "source": [
    "# You can write down the input file in an ascii file.\n",
    "# so you can run the code by e.g.;\n",
    "# python run_gsf.py file_out 1 \n",
    "from gsf.function import write_input\n",
    "write_input(inputs, file_out='gsf_%s_del.input'%inputs['ID'])\n"
   ]
  },
  {
   "cell_type": "markdown",
   "metadata": {},
   "source": [
    "### Now, run the whole SED fitting;"
   ]
  },
  {
   "cell_type": "code",
   "execution_count": null,
   "metadata": {
    "scrolled": true
   },
   "outputs": [],
   "source": [
    "# Import mainbody;\n",
    "mb = run_gsf_template(inputs, fplt=2)\n",
    "\n",
    "# If updated any parameter in inputs, run this; \n",
    "# For example, if you change mind and want to turn off nebular line;\n",
    "if True:\n",
    "    inputs['ADD_NEBULAE'] = 0\n",
    "    mb.update_input(inputs)\n",
    "\n",
    "# Already z-fit done, so we can skip z-fit;\n",
    "skip_fitz = True\n",
    "\n",
    "# Main fitting routine;\n",
    "flag_suc = mb.main(cornerplot=True, specplot=1, sigz=1.0, ezmin=0.01, ferr=0, \n",
    "                   f_move=False, skip_fitz=skip_fitz, f_shuffle=True)\n",
    "\n"
   ]
  },
  {
   "cell_type": "code",
   "execution_count": null,
   "metadata": {},
   "outputs": [],
   "source": [
    "# Plot SFH;\n",
    "\n",
    "# Plot Starforming Main Sequence from Speagle+14?\n",
    "f_SFMS = True\n",
    "\n",
    "# Other configuration;\n",
    "f_silence = False\n",
    "f_symbol = True\n",
    "skip_zhist = True\n",
    "tau_lim = 0.01\n",
    "tset_SFR_SED = 10\n",
    "mmax = 300\n",
    "\n",
    "plot_sfh_tau(mb, f_comp=mb.ftaucomp, fil_path=mb.DIR_FILT, mmax=mmax,\n",
    "            inputs=mb.inputs, dust_model=mb.dust_model, DIR_TMP=mb.DIR_TMP, f_silence=f_silence, \n",
    "            f_SFMS=f_SFMS, f_symbol=f_symbol, skip_zhist=skip_zhist, tau_lim=tau_lim, tset_SFR_SED=tset_SFR_SED)\n"
   ]
  },
  {
   "cell_type": "code",
   "execution_count": null,
   "metadata": {
    "scrolled": true
   },
   "outputs": [],
   "source": [
    "# Plot SED;\n",
    "plot_sed_tau(mb, fil_path=mb.DIR_FILT,\n",
    "            figpdf=False, save_sed=True, inputs=mb.inputs, mmax=300,\n",
    "            f_fill=True, dust_model=mb.dust_model, DIR_TMP=mb.DIR_TMP, f_label=True, f_plot_filter=True)\n"
   ]
  },
  {
   "cell_type": "code",
   "execution_count": null,
   "metadata": {},
   "outputs": [],
   "source": []
  }
 ],
 "metadata": {
  "kernelspec": {
   "display_name": "Python 3 (ipykernel)",
   "language": "python",
   "name": "python3"
  },
  "language_info": {
   "codemirror_mode": {
    "name": "ipython",
    "version": 3
   },
   "file_extension": ".py",
   "mimetype": "text/x-python",
   "name": "python",
   "nbconvert_exporter": "python",
   "pygments_lexer": "ipython3",
   "version": "3.8.11"
  }
 },
 "nbformat": 4,
 "nbformat_minor": 4
}
