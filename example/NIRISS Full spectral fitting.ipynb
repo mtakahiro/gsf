{
 "cells": [
  {
   "cell_type": "markdown",
   "metadata": {},
   "source": [
    "## Full spectral fitting of a passively evolving galaxy;\n",
    "\n",
    "This notebook will demosntrate how we get redshift of a passively evoluving (i.e. no emission lines) galaxy with NIRISS spectra+photometry and HST photometry.\n"
   ]
  },
  {
   "cell_type": "code",
   "execution_count": null,
   "metadata": {},
   "outputs": [],
   "source": [
    "%matplotlib inline\n",
    "%load_ext autoreload"
   ]
  },
  {
   "cell_type": "code",
   "execution_count": null,
   "metadata": {},
   "outputs": [],
   "source": [
    "import os\n",
    "import numpy as np\n",
    "import matplotlib.pyplot as plt\n",
    "\n",
    "from astropy.io import ascii,fits\n",
    "from astropy.convolution import Gaussian2DKernel\n",
    "from astropy.stats import gaussian_fwhm_to_sigma\n",
    "from astropy.table import QTable\n",
    "import astropy.units as u\n",
    "\n",
    "from astropy import __version__ as asver\n",
    "asver"
   ]
  },
  {
   "cell_type": "code",
   "execution_count": null,
   "metadata": {},
   "outputs": [],
   "source": [
    "# https://github.com/mtakahiro/gsf/tree/version1.4\n",
    "import gsf\n",
    "print(gsf.__version__)\n",
    "\n",
    "from gsf.function import get_input\n",
    "from gsf.gsf import run_gsf_template\n",
    "from gsf.plot_sed_logA import plot_sed, plot_corner_physparam_frame, plot_corner_physparam_summary\n",
    "from gsf.plot_sfh_logA import plot_sfh"
   ]
  },
  {
   "cell_type": "markdown",
   "metadata": {},
   "source": [
    "### Setup gsf"
   ]
  },
  {
   "cell_type": "code",
   "execution_count": null,
   "metadata": {},
   "outputs": [],
   "source": [
    "# Initial setup for gsf.\n",
    "\n",
    "# Data directory;\n",
    "DIR_DATA = './data_niriss/'\n",
    "\n",
    "\n",
    "# Auto load input dictionary;\n",
    "inputs = get_input()\n",
    "\n",
    "# change Z;\n",
    "# Flag;\n",
    "fplt = 0\n",
    "inputs['DIR_TEMP'] = './templates/nonebular_miles/'\n",
    "\n",
    "# Output directory;\n",
    "inputs['DIR_OUT'] = './output/'\n",
    "\n",
    "# If templates exit already, then let's save time.\n",
    "# (But if you changed metallicity range or age pixels, fplt needs to be 0.)\n",
    "if os.path.exists('%s/spec_all.asdf'%inputs['DIR_TEMP']):\n",
    "    fplt = 1\n",
    "\n",
    "inputs['ID'] = '3'\n",
    "\n",
    "# Initial guess of redshift, or the true value if known. \n",
    "# We will later do redshift fit later, though.\n",
    "inputs['ZGAL'] = 2.0\n",
    "\n",
    "# Redshift as a free parameter?\n",
    "inputs['ZMC'] = 1\n",
    "\n",
    "\n",
    "# Metallicity range, in logZsun;\n",
    "inputs['ZMIN'] = -0.8\n",
    "inputs['ZMAX'] = 0.624\n",
    "inputs['DELZ'] = 0.2\n",
    "# You can fix metallicity;\n",
    "#inputs['ZFIX'] = 0.0\n",
    "\n",
    "\n",
    "# Templates;\n",
    "inputs['BPASS'] = 0\n",
    "inputs['AGE'] = '0.01,0.03,0.1,0.3,0.5,0.7,1.0,1.5,2.0,3.0'\n",
    "# You can fix age;\n",
    "#inputs['AGEFIX'] = '0.3' # '0.1,0.3,0.5'\n",
    "\n",
    "\n",
    "# Data;\n",
    "DIR_EXTR = DIR_DATA\n",
    "spec_file = 'l3_nis_G150C_s00003_1d_cont_fnu.txt'\n",
    "inputs['DIR_EXTR'] = DIR_EXTR\n",
    "inputs['SPEC_FILE'] =  spec_file\n",
    "inputs['DIR_FILT'] = './filter/'\n",
    "inputs['CAT_BB'] = '%s/l3_nis_flux.cat'%DIR_DATA\n",
    "\n",
    "# Filters;\n",
    "# Each number corresponds to EAZY's filter ids. See also filter/filt_Sep20.lst\n",
    "# These numbers need to be found in inputs['CAT_BB'] file.\n",
    "inputs['FILTER'] = '309,310,311,308,1,4,6,202,203,204,205'\n",
    "\n",
    "\n",
    "# Morphology convolution; Necessary for NIRISS spectra;\n",
    "filt = 'f200w'\n",
    "inputs['MORP'] = 'moffat'\n",
    "inputs['MORP_FILE'] = 'l3_nis_f200w_G150C_s00003_moffat.txt'\n",
    "\n",
    "\n",
    "# MCMC part;\n",
    "inputs['NCPU'] = 1 # For notebook, somehow multiprocessing causes error. So set to 1.\n",
    "inputs['NMC'] = 1000 # NMC for the main SED fit\n",
    "inputs['NMCZ'] = 30 # NMC for the redshift fit\n",
    "\n",
    "\n",
    "# Visual inspection;\n",
    "# Set to 0 (False), as Notebook cannot show actively iterating plot;\n",
    "inputs['ZVIS'] = 0\n",
    "\n",
    "\n",
    "# Emission line masking;\n",
    "#LW = [3727, 4341, 4861, 4960, 5008, 6563, 6717, 6731] # in AA, rest.\n",
    "#inputs['LINE'] = LW\n",
    "\n",
    "\n",
    "# Initial fit:\n",
    "inputs['FNELD'] = 1"
   ]
  },
  {
   "cell_type": "code",
   "execution_count": null,
   "metadata": {},
   "outputs": [],
   "source": [
    "# Then, run template generate function;\n",
    "mb = run_gsf_template(inputs, fplt=fplt)\n",
    "fplt = 1\n"
   ]
  },
  {
   "cell_type": "code",
   "execution_count": null,
   "metadata": {},
   "outputs": [],
   "source": [
    "# You can write down the input file in an ascii file.\n",
    "from gsf.function import write_input\n",
    "write_input(inputs, file_out='gsf.input')\n"
   ]
  },
  {
   "cell_type": "code",
   "execution_count": null,
   "metadata": {},
   "outputs": [],
   "source": [
    "# Do a quick fit at z=z_guess;\n",
    "mb.zprev = mb.zgal\n",
    "#f_add = mb.add_param(mb.fit_params, sigz=mb.sigz, zmin=mb.zmin, zmax=mb.zmax)\n",
    "out, chidef, Zbest, fm_tmp, xm_tmp = mb.quick_fit(mb.zgal, mb.Cz0, mb.Cz1, f_get_templates=True)\n"
   ]
  },
  {
   "cell_type": "code",
   "execution_count": null,
   "metadata": {
    "scrolled": true
   },
   "outputs": [],
   "source": [
    "flag_z = mb.fit_redshift(xm_tmp, fm_tmp)\n"
   ]
  },
  {
   "cell_type": "markdown",
   "metadata": {},
   "source": [
    "### Now, let's improve the fit by finding the true redshift;"
   ]
  },
  {
   "cell_type": "code",
   "execution_count": null,
   "metadata": {},
   "outputs": [],
   "source": [
    "# Preparing Fitting Spectral Template from the library generated above;\n",
    "# Here, we use 5 templates for find redshift;\n",
    "\n",
    "dict = mb.read_data(mb.Cz0, mb.Cz1, mb.zgal)\n",
    "ages = [0.01,0.03,0.1,0.3,1.0]\n",
    "ntmp = len(ages)\n",
    "\n",
    "for nn in range(ntmp):\n",
    "    # For simplicity, no dust attenuation (Av=0), Z fixed to solar (Z=0).\n",
    "    flux_all, wave_all = mb.fnc.get_template(mb.lib_all, Amp=1.0, T=ages[nn], Av=0.0, Z=0.0, zgal=mb.zgal)\n",
    "    \n",
    "    con_tmp = (1000 < wave_all / (1.+mb.zgal)) & (wave_all / (1.+mb.zgal) < 60000)\n",
    "\n",
    "    # Don't forget to blueshift the template.\n",
    "    xm_tmp = wave_all[con_tmp] / (1.+mb.zgal)\n",
    "    fm_tmp = flux_all[con_tmp]\n",
    "\n",
    "    if nn == 0:\n",
    "        fm_tmps = np.zeros((ntmp,len(xm_tmp)),'float')\n",
    "\n",
    "    fm_tmps[nn,:] = fm_tmp[:]\n"
   ]
  },
  {
   "cell_type": "code",
   "execution_count": null,
   "metadata": {},
   "outputs": [],
   "source": [
    "# Then, run redshift fitting; \n",
    "# dict : dictionary that includes a lot of things, including data.\n",
    "# zliml, zlimu : Redshift search range, lower and upper limits.\n",
    "\n",
    "# This should not be too small, if z-distribution is used as prior.\n",
    "delzz = 0.1\n",
    "zspace, chi2s = mb.search_redshift(dict, xm_tmp, fm_tmps, zliml=1., zlimu=4., delzz=delzz)\n"
   ]
  },
  {
   "cell_type": "code",
   "execution_count": null,
   "metadata": {},
   "outputs": [],
   "source": [
    "# Plot;\n",
    "plt.plot(zspace,chi2s[:,1])\n",
    "plt.ylabel('$\\chi^2$',fontsize=18)\n",
    "plt.xlabel('$z$',fontsize=18)\n",
    "plt.title('Redshift Fitting Result')\n"
   ]
  },
  {
   "cell_type": "code",
   "execution_count": null,
   "metadata": {},
   "outputs": [],
   "source": [
    "# Get z at the chi2 minimum.\n",
    "izfit = np.argmin(chi2s[:,1])\n",
    "zfit = zspace[izfit]\n",
    "print('zfit is %.2f'%(zfit))\n"
   ]
  },
  {
   "cell_type": "code",
   "execution_count": null,
   "metadata": {},
   "outputs": [],
   "source": [
    "# Use chi2 as a prior\n",
    "# User can provide phot-z prob by EAZY too.\n",
    "prior = {}\n",
    "prior['z'] = zspace\n",
    "prior['chi2'] = chi2s[:,1]\n"
   ]
  },
  {
   "cell_type": "code",
   "execution_count": null,
   "metadata": {},
   "outputs": [],
   "source": [
    "# Or arbitrary prior;\n",
    "if False:\n",
    "    # Or define a new prior:\n",
    "    zspace_tmp = np.arange(0,13,0.01)\n",
    "    chi2s_tmp = zspace_tmp * 0 + 99\n",
    "    con_tmp = (zspace_tmp>1.8) & (zspace_tmp<2.1)\n",
    "    chi2s_tmp[con_tmp] = 1.0\n",
    "\n",
    "    prior = {}\n",
    "    prior['z'] = zspace_tmp\n",
    "    prior['chi2'] = chi2s_tmp\n",
    "    "
   ]
  },
  {
   "cell_type": "code",
   "execution_count": null,
   "metadata": {},
   "outputs": [],
   "source": [
    "# Repeat the quick fit at the proposed redshift;\n",
    "inputs['ZGAL'] = zfit\n",
    "inputs['NMCZ'] = 30\n",
    "\n",
    "# Update with a new z input\n",
    "mb = run_gsf_template(inputs, fplt=fplt)\n",
    "\n",
    "mb.zprev = mb.zgal\n",
    "out, fm_tmp, xm_tmp = mb.quick_fit(mb.zgal, mb.Cz0, mb.Cz1)\n"
   ]
  },
  {
   "cell_type": "code",
   "execution_count": null,
   "metadata": {},
   "outputs": [],
   "source": [
    "out"
   ]
  },
  {
   "cell_type": "markdown",
   "metadata": {},
   "source": [
    "### Now the result looks good"
   ]
  },
  {
   "cell_type": "code",
   "execution_count": null,
   "metadata": {},
   "outputs": [],
   "source": [
    "plt.close()\n",
    "\n",
    "# Plot the result;\n",
    "flux_all, wave_all = mb.fnc.tmp04(out, f_val=True, lib_all=True)\n",
    "\n",
    "# Template\n",
    "plt.errorbar(wave_all, flux_all, ls='-', color='b', zorder=0, label='Fit')\n",
    "\n",
    "# plot;\n",
    "plt.scatter(dict['xbb'], dict['fybb'], marker='o', c='orange', edgecolor='k', s=150, zorder=2, alpha=1, label='Broadband')\n",
    "\n",
    "if True: # Spec data;\n",
    "    plt.errorbar(dict['x'], dict['fy'], yerr=dict['ey'], ls='', color='gray', zorder=1, alpha=0.3)\n",
    "    plt.scatter(dict['x'], dict['fy'], marker='o', color='r',edgecolor='r', s=10, zorder=1, alpha=1, label='Spectrum')\n",
    "\n",
    "plt.xlim(3000,30000)\n",
    "#plt.ylim(0,25)\n",
    "plt.xscale('log')\n",
    "\n",
    "plt.legend(loc=2)\n",
    "plt.xlabel('Wavelength (AA)')\n",
    "plt.ylabel('Flux (MJy/sr)')\n"
   ]
  },
  {
   "cell_type": "markdown",
   "metadata": {},
   "source": [
    "### Now fit redshift in more details;"
   ]
  },
  {
   "cell_type": "code",
   "execution_count": null,
   "metadata": {},
   "outputs": [],
   "source": [
    "dict = mb.read_data(mb.Cz0, mb.Cz1, mb.zgal)\n",
    "\n",
    "# By usinng the bbest fit template above;\n",
    "con_tmp = ()\n",
    "xm_tmp = wave_all[con_tmp]\n",
    "fm_tmp = flux_all[con_tmp]\n",
    "\n",
    "# Update inputs; \n",
    "inputs['NMCZ'] = 300\n",
    "inputs['NWALKZ'] = 30\n",
    "mb.update_input(inputs)\n",
    "\n",
    "# Redshift fit when BB photometry only?\n",
    "f_bb_zfit = True\n",
    "\n",
    "# This works only when spectrum is provided.\n",
    "mb.fit_redshift(xm_tmp, fm_tmp, delzz=0.01, zliml=2., zlimu=2.55, ezmin=0.01, snlim=0, \\\n",
    "                f_bb_zfit=f_bb_zfit, priors=prior)\n"
   ]
  },
  {
   "cell_type": "code",
   "execution_count": null,
   "metadata": {},
   "outputs": [],
   "source": [
    "# This is normalization;\n",
    "# Should be ~1, as we have already normalized the spectra to BB fluxes.\n",
    "print('Redshift 16/50/84th percentile range :',mb.z_cz)\n",
    "print(mb.Czrec0)\n",
    "print(mb.Czrec1)"
   ]
  },
  {
   "cell_type": "markdown",
   "metadata": {},
   "source": [
    "### Now, run the whole SED fitting;"
   ]
  },
  {
   "cell_type": "code",
   "execution_count": null,
   "metadata": {
    "scrolled": true
   },
   "outputs": [],
   "source": [
    "# No interactive fit;\n",
    "inputs['ZMC'] = 1\n",
    "inputs['ZVIS'] = 0\n",
    "inputs['NMC'] = 1000\n",
    "inputs['ZGAL'] = mb.z_cz[1]\n",
    "\n",
    "# Update inputs; \n",
    "mb.update_input(inputs)\n",
    "\n",
    "# Since already z-fit done, we can skip z-fit;\n",
    "skip_fitz = True\n",
    "\n",
    "# Main;\n",
    "flag_suc = mb.main(cornerplot=True, specplot=1, sigz=1.0, ezmin=0.01, ferr=0, f_move=False, skip_fitz=skip_fitz, out=out)\n"
   ]
  },
  {
   "cell_type": "code",
   "execution_count": null,
   "metadata": {},
   "outputs": [],
   "source": [
    "# Plot SFH;\n",
    "\n",
    "# Plot Starforming Main Sequence from Speagle+14?\n",
    "f_SFMS = True\n",
    "f_symbol = True\n",
    "skip_zhist = True\n",
    "tau_lim = 0.01\n",
    "tset_SFR_SED = 10\n",
    "mmax = 300\n",
    "\n",
    "plot_sfh(mb, f_comp=mb.ftaucomp, fil_path=mb.DIR_FILT, mmax=mmax,\n",
    "inputs=mb.inputs, dust_model=mb.dust_model, DIR_TMP=mb.DIR_TMP, f_silence=True, \n",
    "f_SFMS=f_SFMS, f_symbol=f_symbol, skip_zhist=skip_zhist, tau_lim=tau_lim, tset_SFR_SED=tset_SFR_SED)\n"
   ]
  },
  {
   "cell_type": "code",
   "execution_count": null,
   "metadata": {},
   "outputs": [],
   "source": [
    "# Plot SED;\n",
    "plot_sed(mb, fil_path=mb.DIR_FILT,\n",
    "figpdf=False, save_sed=True, inputs=mb.inputs, mmax=300,\n",
    "f_fill=True, dust_model=mb.dust_model, DIR_TMP=mb.DIR_TMP, f_label=True)\n"
   ]
  },
  {
   "cell_type": "code",
   "execution_count": null,
   "metadata": {},
   "outputs": [],
   "source": [
    "# Physical parameters;\n",
    "plot_corner_physparam_summary(mb)"
   ]
  },
  {
   "cell_type": "code",
   "execution_count": null,
   "metadata": {},
   "outputs": [],
   "source": []
  }
 ],
 "metadata": {
  "kernelspec": {
   "display_name": "Python 3",
   "language": "python",
   "name": "python3"
  },
  "language_info": {
   "codemirror_mode": {
    "name": "ipython",
    "version": 3
   },
   "file_extension": ".py",
   "mimetype": "text/x-python",
   "name": "python",
   "nbconvert_exporter": "python",
   "pygments_lexer": "ipython3",
   "version": "3.7.6"
  }
 },
 "nbformat": 4,
 "nbformat_minor": 4
}
