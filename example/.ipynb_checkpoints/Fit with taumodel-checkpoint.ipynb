{
 "cells": [
  {
   "cell_type": "markdown",
   "metadata": {},
   "source": [
    "## SED fitting using a functional form SFH;\n",
    "\n",
    "This notebook will demosntrate how we get SED results with broadband data points using a function form for SFHs.\n"
   ]
  },
  {
   "cell_type": "code",
   "execution_count": null,
   "metadata": {},
   "outputs": [],
   "source": [
    "%matplotlib inline\n",
    "%load_ext autoreload"
   ]
  },
  {
   "cell_type": "code",
   "execution_count": null,
   "metadata": {},
   "outputs": [],
   "source": [
    "import os\n",
    "import numpy as np\n",
    "import matplotlib.pyplot as plt\n",
    "\n",
    "from astropy.io import ascii,fits\n",
    "from astropy.convolution import Gaussian2DKernel\n",
    "from astropy.stats import gaussian_fwhm_to_sigma\n",
    "from astropy.table import QTable\n",
    "import astropy.units as u\n",
    "\n",
    "from astropy import __version__ as asver\n",
    "asver"
   ]
  },
  {
   "cell_type": "code",
   "execution_count": null,
   "metadata": {},
   "outputs": [],
   "source": [
    "# https://github.com/mtakahiro/gsf/tree/version1.4\n",
    "import gsf\n",
    "print(gsf.__version__)\n",
    "\n",
    "from gsf.function import get_input\n",
    "from gsf.gsf import run_gsf_template\n",
    "from gsf.plot_sed_logA import plot_sed_tau, plot_corner_physparam_frame, plot_corner_physparam_summary\n",
    "from gsf.plot_sfh_logA import plot_sfh_tau"
   ]
  },
  {
   "cell_type": "markdown",
   "metadata": {},
   "source": [
    "### Setup gsf"
   ]
  },
  {
   "cell_type": "code",
   "execution_count": null,
   "metadata": {},
   "outputs": [],
   "source": [
    "# Initial setup for gsf.\n",
    "\n",
    "# Data directory;\n",
    "DIR_DATA = './data/'\n",
    "\n",
    "\n",
    "# Auto load input dictionary;\n",
    "inputs = get_input()\n",
    "\n",
    "# change Z;\n",
    "# Flag;\n",
    "fplt = 0\n",
    "inputs['DIR_TEMP'] = './templates_del/'\n",
    "\n",
    "# Output directory;\n",
    "inputs['DIR_OUT'] = './output_del/'\n",
    "\n",
    "# If templates exit already, then let's save time.\n",
    "# (But if you changed metallicity range or age pixels, fplt needs to be 0.)\n",
    "if os.path.exists('%s/spec_all.asdf'%inputs['DIR_TEMP']):\n",
    "    fplt = 1\n",
    "\n",
    "inputs['ID'] = '32707'\n",
    "\n",
    "# Redshift will be obtained from BB catalog;\n",
    "inputs['ZGAL'] = 1.647\n",
    "\n",
    "# Redshift as a free parameter?\n",
    "inputs['ZMC'] = 0\n",
    "\n",
    "# Metallicity range, in logZsun;\n",
    "inputs['ZMIN'] = -0.4\n",
    "inputs['ZMAX'] = 0.41\n",
    "inputs['DELZ'] = 0.2\n",
    "# You can fix metallicity;\n",
    "#inputs['ZFIX'] = 0.0\n",
    "\n",
    "# Tau model specific;\n",
    "inputs['SFH_FORM'] = 4 # delayed tau.\n",
    "inputs['NPEAK'] = 2 # Number of SFH components.\n",
    "inputs['AGEMIN'] = -1\n",
    "inputs['AGEMAX'] = 1.2\n",
    "inputs['DELAGE'] = 0.1\n",
    "inputs['TAUMIN'] = -1.\n",
    "inputs['TAUMAX'] = 1.0\n",
    "inputs['DELTAU'] = 0.1\n",
    "inputs['NIMF'] = 1\n",
    "\n",
    "# Templates;\n",
    "# Currently in prep.\n",
    "inputs['BPASS'] = 0\n",
    "\n",
    "# Data;\n",
    "inputs['DIR_FILT'] = './filter/'\n",
    "inputs['CAT_BB'] = DIR_DATA + 'uds_PHOT_xy.cat'\n",
    "\n",
    "# Filters;\n",
    "# Each number corresponds to EAZY's filter ids. See also filter/filt_Sep20.lst\n",
    "# These numbers need to be found in inputs['CAT_BB'] file.\n",
    "inputs['FILTER'] = '205,88,122,79,236,123,124,239,125,203,263,204,264,265,18,19,20,21'\n",
    "\n",
    "# MCMC part;\n",
    "inputs['NMC'] = 10000 # NMC for the main SED fit\n",
    "inputs['NMCZ'] = 30 # NMC for the redshift fit\n",
    "\n",
    "# Visual inspection;\n",
    "# Set to 0 (False), as Notebook cannot show actively iterating plot;\n",
    "inputs['ZVIS'] = 0\n",
    "\n",
    "# Initial fit:\n",
    "inputs['FNELD'] = 0\n"
   ]
  },
  {
   "cell_type": "code",
   "execution_count": null,
   "metadata": {},
   "outputs": [],
   "source": [
    "fplt\n",
    "inputs"
   ]
  },
  {
   "cell_type": "code",
   "execution_count": null,
   "metadata": {},
   "outputs": [],
   "source": [
    "# Then, run template generate function;\n",
    "mb = run_gsf_template(inputs, fplt=fplt)\n",
    "fplt = 1\n"
   ]
  },
  {
   "cell_type": "code",
   "execution_count": null,
   "metadata": {},
   "outputs": [],
   "source": [
    "# You can write down the input file in an ascii file.\n",
    "from gsf.function import write_input\n",
    "write_input(inputs, file_out='gsf_del.input')\n"
   ]
  },
  {
   "cell_type": "markdown",
   "metadata": {},
   "source": [
    "### Now, run the whole SED fitting;"
   ]
  },
  {
   "cell_type": "code",
   "execution_count": null,
   "metadata": {
    "scrolled": true
   },
   "outputs": [],
   "source": [
    "mb = run_gsf_template(inputs, fplt=10)\n",
    "\n",
    "\n",
    "# If updated any parameter in inputs, run this; \n",
    "if False:\n",
    "    mb.update_input(inputs)\n",
    "\n",
    "# Since already z-fit done, we can skip z-fit;\n",
    "skip_fitz = True\n",
    "\n",
    "# Main;\n",
    "flag_suc = mb.main(cornerplot=True, specplot=1, sigz=1.0, ezmin=0.01, ferr=0, \n",
    "                   f_move=False, skip_fitz=skip_fitz, f_shuffle=True)\n",
    "\n",
    "# If the call above fail, try again with f_shuffle=False.\n"
   ]
  },
  {
   "cell_type": "code",
   "execution_count": null,
   "metadata": {},
   "outputs": [],
   "source": [
    "# Plot SFH;\n",
    "\n",
    "# Plot Starforming Main Sequence from Speagle+14?\n",
    "f_SFMS = True\n",
    "f_symbol = True\n",
    "skip_zhist = True\n",
    "tau_lim = 0.01\n",
    "tset_SFR_SED = 10\n",
    "mmax = 300\n",
    "\n",
    "plot_sfh_tau(mb, f_comp=mb.ftaucomp, fil_path=mb.DIR_FILT, mmax=mmax,\n",
    "inputs=mb.inputs, dust_model=mb.dust_model, DIR_TMP=mb.DIR_TMP, f_silence=True, \n",
    "f_SFMS=f_SFMS, f_symbol=f_symbol, skip_zhist=skip_zhist, tau_lim=tau_lim, tset_SFR_SED=tset_SFR_SED)\n"
   ]
  },
  {
   "cell_type": "code",
   "execution_count": null,
   "metadata": {},
   "outputs": [],
   "source": [
    "# Plot SED;\n",
    "plot_sed_tau(mb, fil_path=mb.DIR_FILT,\n",
    "figpdf=False, save_sed=True, inputs=mb.inputs, mmax=300,\n",
    "f_fill=True, dust_model=mb.dust_model, DIR_TMP=mb.DIR_TMP, f_label=True)\n"
   ]
  },
  {
   "cell_type": "code",
   "execution_count": null,
   "metadata": {},
   "outputs": [],
   "source": []
  }
 ],
 "metadata": {
  "kernelspec": {
   "display_name": "Python 3",
   "language": "python",
   "name": "python3"
  },
  "language_info": {
   "codemirror_mode": {
    "name": "ipython",
    "version": 3
   },
   "file_extension": ".py",
   "mimetype": "text/x-python",
   "name": "python",
   "nbconvert_exporter": "python",
   "pygments_lexer": "ipython3",
   "version": "3.7.6"
  }
 },
 "nbformat": 4,
 "nbformat_minor": 4
}
